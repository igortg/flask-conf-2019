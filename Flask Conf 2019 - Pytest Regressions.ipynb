{
 "cells": [
  {
   "cell_type": "markdown",
   "metadata": {
    "slideshow": {
     "slide_type": "slide"
    }
   },
   "source": [
    "<p><span class=\"center\">Testes de Regressão</span></p>\n",
    "<p><span class=\"center\">Modelos Numéricos e ORMs</span></p>"
   ]
  },
  {
   "cell_type": "markdown",
   "metadata": {
    "slideshow": {
     "slide_type": "slide"
    }
   },
   "source": [
    "## Abrindo o apetite"
   ]
  },
  {
   "cell_type": "code",
   "execution_count": 5,
   "metadata": {
    "slideshow": {
     "slide_type": "skip"
    }
   },
   "outputs": [],
   "source": [
    "from sqlalchemy import Column, Integer, String, MetaData, ForeignKey, Date, Float\n",
    "from datetime import datetime\n",
    "Base = object"
   ]
  },
  {
   "cell_type": "code",
   "execution_count": 6,
   "metadata": {
    "slideshow": {
     "slide_type": "subslide"
    }
   },
   "outputs": [],
   "source": [
    "class Empregado(Base):\n",
    "    __tablename__ = 'Empregado'\n",
    "\n",
    "    id = Column(Integer, primary_key=True)\n",
    "    nome = Column(String)\n",
    "    sobrenome = Column(String)\n",
    "    email = Column(String)\n",
    "    admissao = Column(Date)\n",
    "    salario = Column(Float)\n",
    "    data_ultimo_pgto = Column(Date)\n",
    "    data_proximo_pgto = Column(Date)\n",
    "    total_recebido = Column(Float, default=0)\n",
    "    inss_devido = Column(Float, default=0)\n",
    "    decimo_terceiro = Column(Float, default=0)\n",
    "\n",
    "    def processa_pagamento(self):\n",
    "        ...\n",
    "    \n",
    "    "
   ]
  },
  {
   "cell_type": "code",
   "execution_count": null,
   "metadata": {
    "slideshow": {
     "slide_type": "subslide"
    }
   },
   "outputs": [],
   "source": [
    "def test_processa_pagamento(session):\n",
    "    empregado = Empregado(nome=\"Maria\", sobrenome=\"Dumont\", salario=3000)\n",
    "    session.add(empregado)\n",
    "    session.commit()\n",
    "\n",
    "    empregado.processa_pagamento()\n",
    "\n",
    "    assert empregado.nome == \"Maria\"\n",
    "    assert empregado.sobrenome == \"Dumont\"\n",
    "    assert empregado.salario == 3000\n",
    "    assert empregado.data_ultimo_pgto == datetime(2019, 9, 8)\n",
    "    assert empregado.data_proximo_pgto == datetime(2019, 10, 8)\n",
    "    assert empregado.total_recebido == 3000\n",
    "    assert empregado.inss_devido == 60\n",
    "    assert empregado.decimo_terceiro == 250\n",
    "    "
   ]
  },
  {
   "cell_type": "code",
   "execution_count": null,
   "metadata": {
    "slideshow": {
     "slide_type": "subslide"
    }
   },
   "outputs": [],
   "source": [
    "def test_processa_pagamento(session, data_regression):\n",
    "    empregado = Empregado(nome=\"Maria\", sobrenome=\"Dumont\", salario=3000)\n",
    "    session.add(empregado)\n",
    "    session.commit()\n",
    "\n",
    "    empregado.processa_pagamento()\n",
    "    data_regression.check(empregado)\n",
    "    "
   ]
  }
 ],
 "metadata": {
  "celltoolbar": "Slideshow",
  "kernelspec": {
   "display_name": "Python 3",
   "language": "python",
   "name": "python3"
  },
  "language_info": {
   "codemirror_mode": {
    "name": "ipython",
    "version": 3
   },
   "file_extension": ".py",
   "mimetype": "text/x-python",
   "name": "python",
   "nbconvert_exporter": "python",
   "pygments_lexer": "ipython3",
   "version": "3.7.3"
  }
 },
 "nbformat": 4,
 "nbformat_minor": 2
}
